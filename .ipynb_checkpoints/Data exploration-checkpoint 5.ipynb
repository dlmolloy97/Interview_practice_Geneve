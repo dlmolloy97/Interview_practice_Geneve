{
 "cells": [
  {
   "cell_type": "code",
   "execution_count": 2,
   "id": "thrown-queue",
   "metadata": {},
   "outputs": [
    {
     "data": {
      "text/html": [
       "<div>\n",
       "<style scoped>\n",
       "    .dataframe tbody tr th:only-of-type {\n",
       "        vertical-align: middle;\n",
       "    }\n",
       "\n",
       "    .dataframe tbody tr th {\n",
       "        vertical-align: top;\n",
       "    }\n",
       "\n",
       "    .dataframe thead th {\n",
       "        text-align: right;\n",
       "    }\n",
       "</style>\n",
       "<table border=\"1\" class=\"dataframe\">\n",
       "  <thead>\n",
       "    <tr style=\"text-align: right;\">\n",
       "      <th></th>\n",
       "      <th>latitude</th>\n",
       "      <th>longitude</th>\n",
       "      <th>price</th>\n",
       "      <th>minimum_nights</th>\n",
       "    </tr>\n",
       "  </thead>\n",
       "  <tbody>\n",
       "    <tr>\n",
       "      <th>0</th>\n",
       "      <td>46.20140</td>\n",
       "      <td>6.15507</td>\n",
       "      <td>73</td>\n",
       "      <td>14</td>\n",
       "    </tr>\n",
       "    <tr>\n",
       "      <th>1</th>\n",
       "      <td>46.19704</td>\n",
       "      <td>6.16076</td>\n",
       "      <td>59</td>\n",
       "      <td>1</td>\n",
       "    </tr>\n",
       "    <tr>\n",
       "      <th>2</th>\n",
       "      <td>46.27944</td>\n",
       "      <td>6.16724</td>\n",
       "      <td>65</td>\n",
       "      <td>7</td>\n",
       "    </tr>\n",
       "    <tr>\n",
       "      <th>3</th>\n",
       "      <td>46.21428</td>\n",
       "      <td>6.14610</td>\n",
       "      <td>130</td>\n",
       "      <td>7</td>\n",
       "    </tr>\n",
       "    <tr>\n",
       "      <th>4</th>\n",
       "      <td>46.20682</td>\n",
       "      <td>6.15526</td>\n",
       "      <td>133</td>\n",
       "      <td>6</td>\n",
       "    </tr>\n",
       "  </tbody>\n",
       "</table>\n",
       "</div>"
      ],
      "text/plain": [
       "   latitude  longitude  price  minimum_nights\n",
       "0  46.20140    6.15507     73              14\n",
       "1  46.19704    6.16076     59               1\n",
       "2  46.27944    6.16724     65               7\n",
       "3  46.21428    6.14610    130               7\n",
       "4  46.20682    6.15526    133               6"
      ]
     },
     "execution_count": 2,
     "metadata": {},
     "output_type": "execute_result"
    }
   ],
   "source": [
    "import pandas as pd\n",
    "import matplotlib.pyplot as plt\n",
    "import numpy as np\n",
    "import folium\n",
    "import branca\n",
    "import branca.colormap as cm\n",
    "#Here, I import the data and obtain the needed columns from the dataframe\n",
    "listings = pd.read_csv('data/listings.csv')\n",
    "listings.head()\n",
    "listings = listings[['latitude','longitude','price','minimum_nights']]\n",
    "listings.head()"
   ]
  },
  {
   "cell_type": "code",
   "execution_count": 3,
   "id": "provincial-bahamas",
   "metadata": {},
   "outputs": [],
   "source": [
    "def map_filter(df, max_price, total_nights):\n",
    "    df=df[df['price']<=max_price]\n",
    "    colormap = cm.LinearColormap(colors=['blue','green','red'],vmin=0,vmax=np.max(df.price))\n",
    "    map = folium.Map(location=[df.latitude.mean(), df.longitude.mean()], zoom_start=14,control_scale=True)\n",
    "    lat = list(df.latitude)\n",
    "    lon = list(df.longitude)\n",
    "    pow = list(df.price)\n",
    "    for loc, p in zip(zip(lat, lon), pow):\n",
    "        folium.Circle(\n",
    "        location=loc,\n",
    "        radius=10,\n",
    "        fill=True,\n",
    "        color=colormap(p),\n",
    "            popup = \"Price per night: CHF {0}. Total price: CHF {1}\".format(p, total_nights*p),\n",
    "        fill_opacity=0.7\n",
    "    ).add_to(map)\n",
    "    map.add_child(colormap)\n",
    "    folium.TileLayer('cartodbpositron').add_to(map)\n",
    "    return map\n",
    "my_cart = map_filter(listings, 400,5)"
   ]
  },
  {
   "cell_type": "code",
   "execution_count": null,
   "id": "mexican-natural",
   "metadata": {},
   "outputs": [],
   "source": []
  },
  {
   "cell_type": "code",
   "execution_count": null,
   "id": "played-metro",
   "metadata": {},
   "outputs": [],
   "source": []
  }
 ],
 "metadata": {
  "kernelspec": {
   "display_name": "Python 3",
   "language": "python",
   "name": "python3"
  },
  "language_info": {
   "codemirror_mode": {
    "name": "ipython",
    "version": 3
   },
   "file_extension": ".py",
   "mimetype": "text/x-python",
   "name": "python",
   "nbconvert_exporter": "python",
   "pygments_lexer": "ipython3",
   "version": "3.8.5"
  }
 },
 "nbformat": 4,
 "nbformat_minor": 5
}
